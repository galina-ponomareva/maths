{
 "cells": [
  {
   "cell_type": "markdown",
   "metadata": {},
   "source": [
    "$\n",
    "a = (1, 5, 0)\\qquad\n",
    "b = (2, 8, 7)\\qquad\n",
    "c = (7, 1.5, 3)\\qquad\n",
    "$\n",
    "$( \\vec a \\times \\vec b ) \\cdot \\vec c = a \\cdot ( \\vec b \\times \\vec c ) $"
   ]
  },
  {
   "cell_type": "markdown",
   "metadata": {},
   "source": [
    "$\\vec a \\times \\vec b = \\left|\n",
    "\\begin{array}{cccc}\n",
    "\\vec i & \\vec j & \\vec k \\\\\n",
    "1 & 5 & 0\\\\\n",
    "2 & 8 & 7\n",
    "\\end{array}\n",
    "\\right| = \\vec i \\left|\n",
    "\\begin{array}{cccc}\n",
    "5 & 0\\\\\n",
    "8 & 7\n",
    "\\end{array}\n",
    "\\right| - \\vec j \\left|\n",
    "\\begin{array}{cccc}\n",
    "1 & 0\\\\\n",
    "2 & 7\n",
    "\\end{array}\n",
    "\\right| + \\vec k \\left|\n",
    "\\begin{array}{cccc}\n",
    "1 & 5\\\\\n",
    "2 & 8\n",
    "\\end{array}\n",
    "\\right| = 35 \\vec i - 7 \\vec j - 2 \\vec k\n",
    "$"
   ]
  },
  {
   "cell_type": "markdown",
   "metadata": {},
   "source": [
    "$( \\vec a \\times \\vec b ) \\cdot \\vec c = 35 \\cdot 7 + (-7) \\cdot 1.5 + (-2) \\cdot 3 = 245 - 10.5 - 6 = 228.5$"
   ]
  },
  {
   "cell_type": "code",
   "execution_count": 1,
   "metadata": {},
   "outputs": [],
   "source": [
    "import numpy as np"
   ]
  },
  {
   "cell_type": "code",
   "execution_count": 2,
   "metadata": {},
   "outputs": [
    {
     "name": "stdout",
     "output_type": "stream",
     "text": [
      "228.5\n"
     ]
    }
   ],
   "source": [
    "a = np.array([1, 5, 0], float)\n",
    "b = np.array([2, 8, 7], float)\n",
    "c = np.array([7, 1.5, 3], float)\n",
    "v = np.cross(a, b)\n",
    "print (np.inner(v, c))"
   ]
  },
  {
   "cell_type": "code",
   "execution_count": null,
   "metadata": {},
   "outputs": [],
   "source": []
  }
 ],
 "metadata": {
  "kernelspec": {
   "display_name": "Python 3",
   "language": "python",
   "name": "python3"
  },
  "language_info": {
   "codemirror_mode": {
    "name": "ipython",
    "version": 3
   },
   "file_extension": ".py",
   "mimetype": "text/x-python",
   "name": "python",
   "nbconvert_exporter": "python",
   "pygments_lexer": "ipython3",
   "version": "3.8.5"
  }
 },
 "nbformat": 4,
 "nbformat_minor": 4
}
