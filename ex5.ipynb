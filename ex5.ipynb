{
 "cells": [
  {
   "cell_type": "code",
   "execution_count": 23,
   "metadata": {},
   "outputs": [],
   "source": [
    "import numpy as np\n",
    "import matplotlib.pyplot as plt\n",
    "from scipy.optimize import minimize"
   ]
  },
  {
   "cell_type": "markdown",
   "metadata": {},
   "source": [
    "$x + 2y - z = 1$ (1)  \n",
    "$8x - 5y +2z = 12$ (2)  \n",
    "Выразим y и z через x.  \n",
    "2(1) + (2):  \n",
    "$y = 10x - 14$  \n",
    "Подставим полученное вместо y в уравнение (2):  \n",
    "$z = 21x - 29$"
   ]
  },
  {
   "cell_type": "code",
   "execution_count": 37,
   "metadata": {},
   "outputs": [
    {
     "data": {
      "image/png": "[encoded data removed]",
      "text/plain": [
       "<Figure size 432x288 with 1 Axes>"
      ]
     },
     "metadata": {
      "needs_background": "light"
     },
     "output_type": "display_data"
    }
   ],
   "source": [
    "def Q(x, y, z):\n",
    "    return (x**2 + y**2 + z**2)\n",
    "\n",
    "x = np.linspace(1, 1.5, 2001)\n",
    "plt.plot(x, Q(x, 10 * x - 14, 21 * x - 29))\n",
    "plt.xlabel('x')\n",
    "plt.ylabel('y')\n",
    "plt.grid(True)\n",
    "plt.show()"
   ]
  },
  {
   "cell_type": "code",
   "execution_count": 36,
   "metadata": {},
   "outputs": [
    {
     "name": "stdout",
     "output_type": "stream",
     "text": [
      "      fun: 1.9428044280443058\n",
      " hess_inv: array([[1]])\n",
      "      jac: array([6.55651093e-07])\n",
      "  message: 'Optimization terminated successfully.'\n",
      "     nfev: 6\n",
      "      nit: 1\n",
      "     njev: 3\n",
      "   status: 0\n",
      "  success: True\n",
      "        x: array([1.38191881])\n"
     ]
    }
   ],
   "source": [
    "def Q(x):\n",
    "    return (x**2 + (10 * x - 14)**2 + (21 * x - 29)**2)\n",
    "print(minimize(Q, 1.4))"
   ]
  },
  {
   "cell_type": "code",
   "execution_count": 6,
   "metadata": {},
   "outputs": [
    {
     "data": {
      "text/plain": [
       "(array([ 1.38191882, -0.18081181,  0.0202952 ]),\n",
       " array([], dtype=float64),\n",
       " 2,\n",
       " array([9.65316119, 2.41173777]))"
      ]
     },
     "execution_count": 6,
     "metadata": {},
     "output_type": "execute_result"
    }
   ],
   "source": [
    "A = np.array([[1, 2, -1], [8, -5, 2]])\n",
    "B = np.array([1, 12])\n",
    "np.linalg.lstsq(A, B, rcond=None)"
   ]
  },
  {
   "cell_type": "markdown",
   "metadata": {},
   "source": [
    "Общее решение:  \n",
    "$\\left(\n",
    "\\begin{array}{cccc}\n",
    "x\\\\10x - 14\\\\21x - 29\n",
    "\\end{array}\n",
    "\\right)$  \n",
    "Базисное решение:  \n",
    "$\\left(\n",
    "\\begin{array}{cccc}\n",
    "0\\\\-14\\\\-29\n",
    "\\end{array}\n",
    "\\right)$  \n",
    "Нормальное псевдорешение:  \n",
    "$\\left(\n",
    "\\begin{array}{cccc}\n",
    "1.38191882\\\\-0.18081181\\\\0.0202952\n",
    "\\end{array}\n",
    "\\right)$"
   ]
  },
  {
   "cell_type": "code",
   "execution_count": null,
   "metadata": {},
   "outputs": [],
   "source": []
  }
 ],
 "metadata": {
  "kernelspec": {
   "display_name": "Python 3",
   "language": "python",
   "name": "python3"
  },
  "language_info": {
   "codemirror_mode": {
    "name": "ipython",
    "version": 3
   },
   "file_extension": ".py",
   "mimetype": "text/x-python",
   "name": "python",
   "nbconvert_exporter": "python",
   "pygments_lexer": "ipython3",
   "version": "3.8.5"
  }
 },
 "nbformat": 4,
 "nbformat_minor": 4
}
