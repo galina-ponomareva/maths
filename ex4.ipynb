{
 "cells": [
  {
   "cell_type": "code",
   "execution_count": 1,
   "metadata": {},
   "outputs": [],
   "source": [
    "import numpy as np \n",
    "import matplotlib.pyplot as plt\n",
    "import scipy \n",
    "import scipy.linalg  "
   ]
  },
  {
   "cell_type": "code",
   "execution_count": 21,
   "metadata": {},
   "outputs": [
    {
     "name": "stdout",
     "output_type": "stream",
     "text": [
      "[[0. 1. 0.]\n",
      " [0. 0. 1.]\n",
      " [1. 0. 0.]]\n",
      "[[ 1.    0.    0.  ]\n",
      " [ 0.25  1.    0.  ]\n",
      " [ 0.5  -0.4   1.  ]]\n",
      "[[  4.    28.    73.  ]\n",
      " [  0.    -5.   -15.25]\n",
      " [  0.     0.   -21.6 ]]\n",
      "[[0. 0. 0.]\n",
      " [0. 0. 0.]\n",
      " [0. 0. 0.]]\n"
     ]
    }
   ],
   "source": [
    "A = np.array([[1, 2, 3], [2, 16, 21], [4, 28, 73]])\n",
    "P, L, U = scipy.linalg.lu(A)\n",
    "\n",
    "print(P)\n",
    "print(L)\n",
    "print(U)\n",
    "\n",
    "print(np.dot(P.transpose(), A) - np.dot(L, U))"
   ]
  },
  {
   "cell_type": "code",
   "execution_count": 22,
   "metadata": {},
   "outputs": [
    {
     "data": {
      "text/plain": [
       "3"
      ]
     },
     "execution_count": 22,
     "metadata": {},
     "output_type": "execute_result"
    }
   ],
   "source": [
    "np.linalg.matrix_rank(A)"
   ]
  },
  {
   "cell_type": "code",
   "execution_count": 20,
   "metadata": {},
   "outputs": [
    {
     "data": {
      "text/plain": [
       "3"
      ]
     },
     "execution_count": 20,
     "metadata": {},
     "output_type": "execute_result"
    }
   ],
   "source": [
    "C = np.array([[1, 2, 3], [2, 16, 21], [4, 28, 73], [0, 5, -1]])\n",
    "np.linalg.matrix_rank(C)"
   ]
  },
  {
   "cell_type": "markdown",
   "metadata": {},
   "source": [
    "Пусть $b = \\left(\n",
    "\\begin{array}{cccc}\n",
    "0\\\\5\\\\-1\n",
    "\\end{array}\n",
    "\\right)$\n",
    "### $P \\cdot A \\cdot x = L \\cdot U \\cdot x = b$\n",
    "### $\\left(\n",
    "\\begin{array}{cccc}\n",
    "1 & 0 & 0\\\\\n",
    "0.25 & 1 & 0\\\\\n",
    "0.5 & -0.4 & 1\n",
    "\\end{array}\n",
    "\\right) \\cdot \n",
    "\\left(\n",
    "\\begin{array}{cccc}\n",
    "y_0\\\\y_1\\\\y_2\n",
    "\\end{array}\n",
    "\\right) = \\left(\n",
    "\\begin{array}{cccc}\n",
    "-1\\\\0\\\\5\n",
    "\\end{array}\n",
    "\\right)$\n",
    "$y_0 = -1$  \n",
    "$0.25y_0 + y_1 = 0, y_1 = 0.25$  \n",
    "$0.5y_0 - 0.4y_1 + y_2 = 5, y_2 = 5.6$\n",
    "\n",
    "### $\\left(\n",
    "\\begin{array}{cccc}\n",
    "4 & 28 & 73\\\\\n",
    "0 & -5 & -15.25\\\\\n",
    "0 & 0 & -21.6\n",
    "\\end{array}\n",
    "\\right)\\cdot \n",
    "\\left(\n",
    "\\begin{array}{cccc}\n",
    "x_0\\\\x_1\\\\x_2\n",
    "\\end{array}\n",
    "\\right) = \\left(\n",
    "\\begin{array}{cccc}\n",
    "-1\\\\0.25\\\\5.6\n",
    "\\end{array}\n",
    "\\right)$\n",
    "$-21.6x_2 = 5.6, x_2 = -\\frac{56}{216} = -\\frac{7}{27}$  \n",
    "$-5x_1 - 15.25x_2 = 0.25, -5x_1 = \\frac{1}{4} - \\frac{61 \\cdot 7}{27 \\cdot 4}, x_1 = -\\frac{27 - 427}{27 \\cdot 20} = \\frac{20}{27}$\n",
    "$4x_0 + 28x_1 + 73x_2 = -1, x_0 = -\\frac{27 + 28 \\cdot 20 - 73 \\cdot 7}{27 \\cdot 4} = -\\frac{76}{27 \\cdot 4} = -\\frac{19}{27}$\n",
    "\n",
    "### $\\left(\n",
    "\\begin{array}{cccc}\n",
    "x_0\\\\x_1\\\\x_2\n",
    "\\end{array}\n",
    "\\right) = \\left(\n",
    "\\begin{array}{cccc}\n",
    "-\\frac{19}{27}\\\\\\frac{20}{27}\\\\-\\frac{7}{27}\n",
    "\\end{array}\n",
    "\\right)$"
   ]
  },
  {
   "cell_type": "code",
   "execution_count": 24,
   "metadata": {},
   "outputs": [
    {
     "data": {
      "text/plain": [
       "array([-0.7037037 ,  0.74074074, -0.25925926])"
      ]
     },
     "execution_count": 24,
     "metadata": {},
     "output_type": "execute_result"
    }
   ],
   "source": [
    "A = np.array([[1, 2, 3], [2, 16, 21], [4, 28, 73]])\n",
    "B = np.array([0, 5, -1])\n",
    "\n",
    "np.linalg.solve(A, B)"
   ]
  },
  {
   "cell_type": "code",
   "execution_count": null,
   "metadata": {},
   "outputs": [],
   "source": []
  }
 ],
 "metadata": {
  "kernelspec": {
   "display_name": "Python 3",
   "language": "python",
   "name": "python3"
  },
  "language_info": {
   "codemirror_mode": {
    "name": "ipython",
    "version": 3
   },
   "file_extension": ".py",
   "mimetype": "text/x-python",
   "name": "python",
   "nbconvert_exporter": "python",
   "pygments_lexer": "ipython3",
   "version": "3.8.5"
  }
 },
 "nbformat": 4,
 "nbformat_minor": 4
}
