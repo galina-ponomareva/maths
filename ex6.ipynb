{
 "cells": [
  {
   "cell_type": "code",
   "execution_count": 13,
   "metadata": {},
   "outputs": [],
   "source": [
    "import numpy as np\n",
    "import matplotlib.pyplot as plt\n",
    "from scipy.optimize import minimize"
   ]
  },
  {
   "cell_type": "code",
   "execution_count": 3,
   "metadata": {},
   "outputs": [
    {
     "name": "stdout",
     "output_type": "stream",
     "text": [
      "[[1 2 3]\n",
      " [4 5 6]\n",
      " [7 8 9]]\n",
      "[[-0.12309149  0.90453403  0.40824829]\n",
      " [-0.49236596  0.30151134 -0.81649658]\n",
      " [-0.86164044 -0.30151134  0.40824829]]\n",
      "[[-8.12403840e+00 -9.60113630e+00 -1.10782342e+01]\n",
      " [ 0.00000000e+00  9.04534034e-01  1.80906807e+00]\n",
      " [ 0.00000000e+00  0.00000000e+00 -1.77635684e-15]]\n"
     ]
    }
   ],
   "source": [
    "A = np.array([ [1, 2, 3], [4, 5, 6], [7, 8, 9] ])\n",
    "B = np.array([2, 5, 11])\n",
    "Q, R = np.linalg.qr(A)\n",
    "\n",
    "print(A)\n",
    "print(Q)\n",
    "print(R)"
   ]
  },
  {
   "cell_type": "code",
   "execution_count": 4,
   "metadata": {},
   "outputs": [
    {
     "name": "stdout",
     "output_type": "stream",
     "text": [
      "[[1. 2. 3.]\n",
      " [4. 5. 6.]\n",
      " [7. 8. 9.]]\n",
      "[[ 1.00000000e+00 -5.55111512e-16 -2.77555756e-16]\n",
      " [-5.55111512e-16  1.00000000e+00  5.68989300e-16]\n",
      " [-2.77555756e-16  5.68989300e-16  1.00000000e+00]]\n"
     ]
    }
   ],
   "source": [
    "print(np.dot(Q, R))\n",
    "print(np.dot(np.transpose(Q), Q))"
   ]
  },
  {
   "cell_type": "code",
   "execution_count": 5,
   "metadata": {},
   "outputs": [
    {
     "data": {
      "text/plain": [
       "array([[-8.1240384 , -9.6011363 ],\n",
       "       [ 0.        ,  0.90453403]])"
      ]
     },
     "execution_count": 5,
     "metadata": {},
     "output_type": "execute_result"
    }
   ],
   "source": [
    "R1 = R[:2, :2]\n",
    "R1"
   ]
  },
  {
   "cell_type": "code",
   "execution_count": 6,
   "metadata": {},
   "outputs": [
    {
     "data": {
      "text/plain": [
       "array([-1.21860576e+01,  8.43769499e-15])"
      ]
     },
     "execution_count": 6,
     "metadata": {},
     "output_type": "execute_result"
    }
   ],
   "source": [
    "B1 = np.dot(np.transpose(Q), B)[:2]\n",
    "B1"
   ]
  },
  {
   "cell_type": "code",
   "execution_count": 7,
   "metadata": {},
   "outputs": [
    {
     "data": {
      "text/plain": [
       "array([1.50000000e+00, 9.32822279e-15])"
      ]
     },
     "execution_count": 7,
     "metadata": {},
     "output_type": "execute_result"
    }
   ],
   "source": [
    "X1 = np.linalg.solve(R1, B1)\n",
    "X1"
   ]
  },
  {
   "cell_type": "code",
   "execution_count": 8,
   "metadata": {},
   "outputs": [
    {
     "name": "stdout",
     "output_type": "stream",
     "text": [
      "[1.50000000e+00 9.32822279e-15 0.00000000e+00]\n"
     ]
    },
    {
     "data": {
      "text/plain": [
       "1.4999999999999896"
      ]
     },
     "execution_count": 8,
     "metadata": {},
     "output_type": "execute_result"
    }
   ],
   "source": [
    "X = np.append(X1, 0)\n",
    "print (X)\n",
    "np.linalg.norm(X)"
   ]
  },
  {
   "cell_type": "markdown",
   "metadata": {},
   "source": [
    "Одно из псевдорешений исходной вырожденной СЛАУ:  \n",
    "$\\left(\n",
    "\\begin{array}{cccc}\n",
    "1.5\\\\0\\\\0\n",
    "\\end{array}\n",
    "\\right)$"
   ]
  },
  {
   "cell_type": "code",
   "execution_count": 47,
   "metadata": {},
   "outputs": [
    {
     "name": "stdout",
     "output_type": "stream",
     "text": [
      "1.224744871391589\n"
     ]
    }
   ],
   "source": [
    "print(np.linalg.norm(np.dot(A, X) - B))"
   ]
  },
  {
   "cell_type": "markdown",
   "metadata": {},
   "source": [
    "Чтобы найти нормальное псевдорешение, нужно при минимуме нормы невязки минимизировать норму вектора X.\n",
    "Компоненты вектора X найдем из уравнения:  \n",
    "$R_1 \\cdot X_1 = Q^T \\cdot B - R_2 \\cdot X_2$  \n",
    "В нашем случае это уравнение примет вид:  \n",
    "$\\left(\n",
    "\\begin{array}{cccc}\n",
    "-8.12 & -9.6\\\\\n",
    "0 & 0.9\\end{array}\n",
    "\\right) \\cdot \\left(\n",
    "\\begin{array}{cccc}\n",
    "x\\\\y\\end{array}\n",
    "\\right) = \\left(\n",
    "\\begin{array}{cccc}\n",
    "-12.19\\\\0\\end{array}\n",
    "\\right) - \\left(\n",
    "\\begin{array}{cccc}\n",
    "-11.08\\\\1.8\\end{array}\n",
    "\\right) \\cdot \\left(\n",
    "\\begin{array}{cccc}\n",
    "z\\end{array}\n",
    "\\right)$  \n",
    "$\\left(\n",
    "\\begin{array}{cccc}\n",
    "-8.12x - 9.6y\\\\0.9y\\end{array}\n",
    "\\right) = \\left(\n",
    "\\begin{array}{cccc}\n",
    "-12.19 + 11.08z\\\\-1.8z\\end{array}\n",
    "\\right)$  \n",
    "Отсюда, $0.9y = -1.8z, y = -2z$ и  \n",
    "$-8.12x - 9.6y = -12.19 + 11.08z, x = z + 1.5$"
   ]
  },
  {
   "cell_type": "code",
   "execution_count": 43,
   "metadata": {},
   "outputs": [
    {
     "data": {
      "image/png": "[encoded data removed]",
      "text/plain": [
       "<Figure size 432x288 with 1 Axes>"
      ]
     },
     "metadata": {
      "needs_background": "light"
     },
     "output_type": "display_data"
    }
   ],
   "source": [
    "def Q(x, y, z):\n",
    "    return (x**2 + y**2 + z**2)\n",
    "\n",
    "x = np.linspace(-0.5, 0.3, 2001)\n",
    "plt.plot(x, Q(1.5 + x, - 2 * x, x))\n",
    "plt.xlabel('x')\n",
    "plt.ylabel('y')\n",
    "plt.grid(True)\n",
    "plt.show()"
   ]
  },
  {
   "cell_type": "code",
   "execution_count": 44,
   "metadata": {},
   "outputs": [
    {
     "name": "stdout",
     "output_type": "stream",
     "text": [
      "      fun: 1.875\n",
      " hess_inv: array([[1]])\n",
      "      jac: array([8.94069672e-08])\n",
      "  message: 'Optimization terminated successfully.'\n",
      "     nfev: 2\n",
      "      nit: 0\n",
      "     njev: 1\n",
      "   status: 0\n",
      "  success: True\n",
      "        x: array([-0.25])\n"
     ]
    }
   ],
   "source": [
    "def Q(z):\n",
    "    return ((1.5 + z)**2 + (- 2 * z)**2 + z**2)\n",
    "print(minimize(Q, -0.25))"
   ]
  },
  {
   "cell_type": "code",
   "execution_count": 45,
   "metadata": {},
   "outputs": [
    {
     "data": {
      "text/plain": [
       "1.3693063937629153"
      ]
     },
     "execution_count": 45,
     "metadata": {},
     "output_type": "execute_result"
    }
   ],
   "source": [
    "X = np.array([1.25, 0.5, -0.25])\n",
    "np.linalg.norm(X)"
   ]
  },
  {
   "cell_type": "code",
   "execution_count": 46,
   "metadata": {},
   "outputs": [
    {
     "name": "stdout",
     "output_type": "stream",
     "text": [
      "1.224744871391589\n"
     ]
    }
   ],
   "source": [
    "print(np.linalg.norm(np.dot(A, X) - B))"
   ]
  },
  {
   "cell_type": "markdown",
   "metadata": {},
   "source": [
    "Нормальное псевдорешение исходной вырожденной СЛАУ:  \n",
    "$\\left(\n",
    "\\begin{array}{cccc}\n",
    "1.25\\\\0.5\\\\-0.25\n",
    "\\end{array}\n",
    "\\right)$"
   ]
  },
  {
   "cell_type": "code",
   "execution_count": null,
   "metadata": {},
   "outputs": [],
   "source": []
  }
 ],
 "metadata": {
  "kernelspec": {
   "display_name": "Python 3",
   "language": "python",
   "name": "python3"
  },
  "language_info": {
   "codemirror_mode": {
    "name": "ipython",
    "version": 3
   },
   "file_extension": ".py",
   "mimetype": "text/x-python",
   "name": "python",
   "nbconvert_exporter": "python",
   "pygments_lexer": "ipython3",
   "version": "3.8.5"
  }
 },
 "nbformat": 4,
 "nbformat_minor": 4
}
