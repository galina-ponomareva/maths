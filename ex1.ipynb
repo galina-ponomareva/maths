{
 "cells": [
  {
   "cell_type": "code",
   "execution_count": 1,
   "metadata": {},
   "outputs": [],
   "source": [
    "%matplotlib inline\n",
    "import numpy as np"
   ]
  },
  {
   "cell_type": "code",
   "execution_count": 12,
   "metadata": {},
   "outputs": [
    {
     "name": "stdout",
     "output_type": "stream",
     "text": [
      "\n",
      "15 черное\n",
      "\n",
      "4 черное\n",
      "\n",
      "4 черное\n",
      "\n",
      "19 красное\n",
      "\n",
      "3 красное\n"
     ]
    }
   ],
   "source": [
    "n = 5\n",
    "\n",
    "for i in range(0, n):\n",
    "    a = input()\n",
    "    x = np.random.uniform(0, 37)\n",
    "    if int(x) in [15, 4, 2, 17, 6, 13, 11, 8, 10, 24, 33, 20, 31, 22, 29, 28, 35, 26]:\n",
    "        print(int(x), \"черное\")\n",
    "    elif int(x) in [32, 19, 21, 25, 34, 27, 36, 30, 23, 5, 16, 1, 14, 9, 18, 7, 12, 3]:\n",
    "        print(int(x), \"красное\")\n",
    "    else:\n",
    "        print(int(x), \"зеро\")   "
   ]
  },
  {
   "cell_type": "code",
   "execution_count": null,
   "metadata": {},
   "outputs": [],
   "source": []
  }
 ],
 "metadata": {
  "kernelspec": {
   "display_name": "Python 3",
   "language": "python",
   "name": "python3"
  },
  "language_info": {
   "codemirror_mode": {
    "name": "ipython",
    "version": 3
   },
   "file_extension": ".py",
   "mimetype": "text/x-python",
   "name": "python",
   "nbconvert_exporter": "python",
   "pygments_lexer": "ipython3",
   "version": "3.8.5"
  }
 },
 "nbformat": 4,
 "nbformat_minor": 4
}
