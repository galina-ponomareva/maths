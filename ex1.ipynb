{
 "cells": [
  {
   "cell_type": "code",
   "execution_count": 1,
   "metadata": {},
   "outputs": [],
   "source": [
    "import numpy as np"
   ]
  },
  {
   "cell_type": "markdown",
   "metadata": {},
   "source": [
    "1. Вектор – это частный случай матрицы 1хN и Nх1. Повторите материал для векторов, уделяя особое внимание умножению A∙B."
   ]
  },
  {
   "cell_type": "code",
   "execution_count": 14,
   "metadata": {},
   "outputs": [
    {
     "name": "stdout",
     "output_type": "stream",
     "text": [
      "[[1. 2. 3.]]\n",
      "[[ 0. -1. 12.]]\n"
     ]
    }
   ],
   "source": [
    "a = np.array([[1, 2, 3]], float)\n",
    "b = np.array([[0, -1, 12]], float)\n",
    "print(a)\n",
    "print(b)"
   ]
  },
  {
   "cell_type": "code",
   "execution_count": 17,
   "metadata": {},
   "outputs": [
    {
     "name": "stdout",
     "output_type": "stream",
     "text": [
      "3.0\n",
      "0.0\n"
     ]
    }
   ],
   "source": [
    "print(a[0, 2])\n",
    "print(b[0, 0])"
   ]
  },
  {
   "cell_type": "code",
   "execution_count": 18,
   "metadata": {},
   "outputs": [
    {
     "name": "stdout",
     "output_type": "stream",
     "text": [
      "(1, 3)\n"
     ]
    }
   ],
   "source": [
    "print(a.shape)"
   ]
  },
  {
   "cell_type": "code",
   "execution_count": 19,
   "metadata": {},
   "outputs": [
    {
     "name": "stdout",
     "output_type": "stream",
     "text": [
      "[[ 0.]\n",
      " [-1.]\n",
      " [12.]]\n",
      "(3, 1)\n"
     ]
    }
   ],
   "source": [
    "c = np.array([[0], [-1], [12]], float)\n",
    "print(c)\n",
    "print(c.shape)"
   ]
  },
  {
   "cell_type": "code",
   "execution_count": 20,
   "metadata": {},
   "outputs": [
    {
     "name": "stdout",
     "output_type": "stream",
     "text": [
      "[[2. 4. 6.]]\n"
     ]
    }
   ],
   "source": [
    "d = a * 2\n",
    "print(d)"
   ]
  },
  {
   "cell_type": "code",
   "execution_count": 21,
   "metadata": {},
   "outputs": [
    {
     "name": "stdout",
     "output_type": "stream",
     "text": [
      "[[ 1.  1. 15.]]\n"
     ]
    }
   ],
   "source": [
    "e = a + b\n",
    "print(e)"
   ]
  },
  {
   "cell_type": "code",
   "execution_count": 22,
   "metadata": {},
   "outputs": [
    {
     "name": "stdout",
     "output_type": "stream",
     "text": [
      "[[ 1.  3. -9.]]\n"
     ]
    }
   ],
   "source": [
    "e = np.subtract(a, b)\n",
    "print(e)"
   ]
  },
  {
   "cell_type": "code",
   "execution_count": 23,
   "metadata": {},
   "outputs": [
    {
     "name": "stdout",
     "output_type": "stream",
     "text": [
      "[[ 1.  3. -9.]]\n"
     ]
    }
   ],
   "source": [
    "e = a - b\n",
    "print(e)"
   ]
  },
  {
   "cell_type": "code",
   "execution_count": 24,
   "metadata": {},
   "outputs": [
    {
     "name": "stdout",
     "output_type": "stream",
     "text": [
      "[[1. 2. 3.]]\n",
      "[[1.]\n",
      " [2.]\n",
      " [3.]]\n",
      "[[ 0.]\n",
      " [-1.]\n",
      " [12.]]\n",
      "[[ 0. -1. 12.]]\n"
     ]
    }
   ],
   "source": [
    "f = a.transpose()\n",
    "print(a)\n",
    "print(f)\n",
    "\n",
    "g = c.transpose()\n",
    "print(c)\n",
    "print(g)"
   ]
  },
  {
   "cell_type": "code",
   "execution_count": 27,
   "metadata": {},
   "outputs": [
    {
     "name": "stdout",
     "output_type": "stream",
     "text": [
      "[[ 0. -1. 12.]\n",
      " [ 0. -2. 24.]\n",
      " [ 0. -3. 36.]]\n",
      "[[34.]]\n"
     ]
    },
    {
     "data": {
      "text/plain": [
       "((1, 3), (3, 1))"
      ]
     },
     "execution_count": 27,
     "metadata": {},
     "output_type": "execute_result"
    }
   ],
   "source": [
    "i = np.dot(f, g)\n",
    "print(i)\n",
    "f.shape, g.shape\n",
    "j = np.dot(g, f)\n",
    "print(j)\n",
    "g.shape, f.shape"
   ]
  },
  {
   "cell_type": "code",
   "execution_count": 28,
   "metadata": {},
   "outputs": [
    {
     "name": "stdout",
     "output_type": "stream",
     "text": [
      "[1. 2. 3. 4. 5.]\n",
      "[0. 9. 8. 7. 6.]\n"
     ]
    }
   ],
   "source": [
    "u = np.array([1, 2, 3, 4, 5], float)\n",
    "v = np.array([0, 9, 8, 7, 6], float)\n",
    "print(u)\n",
    "print(v)"
   ]
  },
  {
   "cell_type": "code",
   "execution_count": 36,
   "metadata": {},
   "outputs": [
    {
     "name": "stdout",
     "output_type": "stream",
     "text": [
      "100.0\n",
      "100.0\n",
      "100.0\n",
      "100.0\n",
      "[[ 0.  9.  8.  7.  6.]\n",
      " [ 0. 18. 16. 14. 12.]\n",
      " [ 0. 27. 24. 21. 18.]\n",
      " [ 0. 36. 32. 28. 24.]\n",
      " [ 0. 45. 40. 35. 30.]]\n",
      "[[ 0.  0.  0.  0.  0.]\n",
      " [ 9. 18. 27. 36. 45.]\n",
      " [ 8. 16. 24. 32. 40.]\n",
      " [ 7. 14. 21. 28. 35.]\n",
      " [ 6. 12. 18. 24. 30.]]\n"
     ]
    }
   ],
   "source": [
    "w = np.dot(u, v)\n",
    "print(w)\n",
    "w = np.dot(v, u)\n",
    "print(w)\n",
    "\n",
    "x = np.inner(u, v)\n",
    "print(x)\n",
    "x = np.inner(v, u)\n",
    "print(x)\n",
    "\n",
    "y = np.outer(u, v)\n",
    "print(y)\n",
    "y = np.outer(v, u)\n",
    "print(y)"
   ]
  },
  {
   "cell_type": "markdown",
   "metadata": {},
   "source": [
    "2. Вычислите, по возможности не используя программирование: (5E)-1 где Е – единичная матрица размера 5х5."
   ]
  },
  {
   "cell_type": "markdown",
   "metadata": {},
   "source": [
    "Так как $A \\cdot E = E \\cdot A = A$, а по определению обратной матрицы $A \\cdot A^{-1} = E$, то $E = E^{-1}$"
   ]
  },
  {
   "cell_type": "markdown",
   "metadata": {},
   "source": [
    "$(5E)^{-1} = 5^{-1} \\cdot E^{-1} = 0.2E = \\left(\n",
    "\\begin{array}{cccc}\n",
    "0.2 & 0 & 0 & 0 & 0\\\\\n",
    "0 & 0.2 & 0 & 0 & 0\\\\\n",
    "0 & 0 & 0.2 & 0 & 0\\\\\n",
    "0 & 0 & 0 & 0.2 & 0\\\\\n",
    "0 & 0 & 0 & 0 & 0.2\n",
    "\\end{array}\n",
    "\\right)\n",
    "$"
   ]
  },
  {
   "cell_type": "code",
   "execution_count": 2,
   "metadata": {},
   "outputs": [
    {
     "name": "stdout",
     "output_type": "stream",
     "text": [
      "[[0.2 0.  0.  0.  0. ]\n",
      " [0.  0.2 0.  0.  0. ]\n",
      " [0.  0.  0.2 0.  0. ]\n",
      " [0.  0.  0.  0.2 0. ]\n",
      " [0.  0.  0.  0.  0.2]]\n"
     ]
    }
   ],
   "source": [
    "a = np.array([[5, 0, 0, 0, 0], [0, 5, 0, 0, 0], [0, 0, 5, 0, 0], [0, 0, 0, 5, 0], [0, 0, 0, 0, 5]])\n",
    "p = np.linalg.inv(a)\n",
    "print(p)"
   ]
  },
  {
   "cell_type": "code",
   "execution_count": null,
   "metadata": {},
   "outputs": [],
   "source": []
  }
 ],
 "metadata": {
  "kernelspec": {
   "display_name": "Python 3",
   "language": "python",
   "name": "python3"
  },
  "language_info": {
   "codemirror_mode": {
    "name": "ipython",
    "version": 3
   },
   "file_extension": ".py",
   "mimetype": "text/x-python",
   "name": "python",
   "nbconvert_exporter": "python",
   "pygments_lexer": "ipython3",
   "version": "3.8.5"
  }
 },
 "nbformat": 4,
 "nbformat_minor": 4
}
