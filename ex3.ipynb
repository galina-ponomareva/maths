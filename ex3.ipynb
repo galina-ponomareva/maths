{
 "cells": [
  {
   "cell_type": "code",
   "execution_count": 2,
   "metadata": {},
   "outputs": [],
   "source": [
    "import numpy as np"
   ]
  },
  {
   "cell_type": "code",
   "execution_count": 6,
   "metadata": {},
   "outputs": [
    {
     "name": "stdout",
     "output_type": "stream",
     "text": [
      "Вероятность 2 успехов из 4 испытаний\n",
      "Теоретическая величина: 0.375\n",
      "Расчетная величина: 0.37493\n"
     ]
    }
   ],
   "source": [
    "k, n = 0, 100000\n",
    "a = np.random.randint(0, 2, n)\n",
    "b = np.random.randint(0, 2, n)\n",
    "c = np.random.randint(0, 2, n)\n",
    "d = np.random.randint(0, 2, n)\n",
    "x = a + b + c + d\n",
    "for i in range(0, n):\n",
    "    if x[i] == 2:\n",
    "        k = k + 1\n",
    "\n",
    "C = np.math.factorial(4)/(np.math.factorial(2)*np.math.factorial(2))\n",
    "p = C/(2**4)\n",
    "\n",
    "print('Вероятность 2 успехов из 4 испытаний')\n",
    "print('Теоретическая величина:', p)\n",
    "print('Расчетная величина:', k/n)"
   ]
  },
  {
   "cell_type": "code",
   "execution_count": 8,
   "metadata": {},
   "outputs": [
    {
     "name": "stdout",
     "output_type": "stream",
     "text": [
      "Вероятность 5 успехов из 8 испытаний\n",
      "Теоретическая величина: 0.21875\n",
      "Расчетная величина: 0.21838\n"
     ]
    }
   ],
   "source": [
    "k, n = 0, 100000\n",
    "A = []\n",
    "\n",
    "for i in range(0, 8):\n",
    "    a = np.random.randint(0, 2, n)\n",
    "    A.append(a)\n",
    "x = sum(A)\n",
    "\n",
    "for i in range(0, n):\n",
    "    if x[i] == 5:\n",
    "        k = k + 1\n",
    "\n",
    "C = np.math.factorial(8)/(np.math.factorial(5)*np.math.factorial(3))\n",
    "p = C/(2**8)\n",
    "\n",
    "print('Вероятность 5 успехов из 8 испытаний')\n",
    "print('Теоретическая величина:', p)\n",
    "print('Расчетная величина:', k/n)"
   ]
  },
  {
   "cell_type": "code",
   "execution_count": null,
   "metadata": {},
   "outputs": [],
   "source": []
  }
 ],
 "metadata": {
  "kernelspec": {
   "display_name": "Python 3",
   "language": "python",
   "name": "python3"
  },
  "language_info": {
   "codemirror_mode": {
    "name": "ipython",
    "version": 3
   },
   "file_extension": ".py",
   "mimetype": "text/x-python",
   "name": "python",
   "nbconvert_exporter": "python",
   "pygments_lexer": "ipython3",
   "version": "3.8.5"
  }
 },
 "nbformat": 4,
 "nbformat_minor": 4
}
