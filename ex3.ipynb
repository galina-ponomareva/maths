{
 "cells": [
  {
   "cell_type": "code",
   "execution_count": 11,
   "metadata": {},
   "outputs": [],
   "source": [
    "import numpy as np"
   ]
  },
  {
   "cell_type": "code",
   "execution_count": 2,
   "metadata": {},
   "outputs": [
    {
     "data": {
      "text/plain": [
       "(2, 3)"
      ]
     },
     "execution_count": 2,
     "metadata": {},
     "output_type": "execute_result"
    }
   ],
   "source": [
    "A = np.array([[1, 2, 3], [4, 5, 6], [7, 8, 9]])\n",
    "B = np.array([[12, 2, 1]])\n",
    "C = np.concatenate((A,B.T), axis=1)\n",
    "np.linalg.matrix_rank(A, 0.0001), np.linalg.matrix_rank(C, 0.0001)"
   ]
  },
  {
   "cell_type": "markdown",
   "metadata": {},
   "source": [
    "Ранг основной матрицы системы не равен рангу расширенной матрицы, следовательно, система несовместна.\n",
    "Чтобы система стала совместной, изменим правую часть так, чтобы ранг расширенной матрицы тоже стал равен 2.\n",
    "Видно, что третья строка основной матрицы является линейной комбинацией первых двух, а именно (3) = 2 * (2) - (1). Изменим третью строку вектора B правой части так, чтобы она стала такой же линейной комбинацией первых двух: 2 * 2 - 12 = -8."
   ]
  },
  {
   "cell_type": "code",
   "execution_count": 4,
   "metadata": {},
   "outputs": [
    {
     "data": {
      "text/plain": [
       "(2, 2)"
      ]
     },
     "execution_count": 4,
     "metadata": {},
     "output_type": "execute_result"
    }
   ],
   "source": [
    "A = np.array([[1, 2, 3], [4, 5, 6], [7, 8, 9]])\n",
    "B = np.array([[12, 2, -8]])\n",
    "C = np.concatenate((A,B.T), axis=1)\n",
    "np.linalg.matrix_rank(A, 0.0001), np.linalg.matrix_rank(C, 0.0001)"
   ]
  },
  {
   "cell_type": "markdown",
   "metadata": {},
   "source": [
    "По теореме Кронекера-Капелли система теперь совместна и имеет бесконечное множество решений."
   ]
  },
  {
   "cell_type": "markdown",
   "metadata": {},
   "source": [
    "Возьмем из полученной СЛАУ число уравнений равное рангу основной матрицы, то есть 2 уравнения. Для удобства возьмем 2 первых.  \n",
    "$x + 2y + 3z = 12$ (1)  \n",
    "$4x + 5y + 6z = 2$ (2)  \n",
    "ГМТ бесконечного множества решений - прямая в пространстве, заданная системой уравнений (1) и (2). Запишем уравнение этой прямой в каноническом виде."
   ]
  },
  {
   "cell_type": "markdown",
   "metadata": {},
   "source": [
    "Для начала найдем точку, принадлежащую этой прямой. Пусть $y = 0$:  \n",
    "$x + 3z = 12$ (3)  \n",
    "$4x + 6z = 2$ (4)  \n",
    "Домножим уравнение (3) на (-1), а уравнение (4) разделим на 2, после чего сложим полученные уравнения:  \n",
    "$x = -11$  \n",
    "Подставим x в уравнение (3):  \n",
    "$z = \\frac{23}{3}$  \n",
    "Таким образом, искомая точка имеет координаты (-11, 0, 23/3)."
   ]
  },
  {
   "cell_type": "markdown",
   "metadata": {},
   "source": [
    "Направляющий вектор искомой прямой найдем как векторное произведение векторов нормали плоскостей, заданных уравнениями (1) и (2).  \n",
    "$\\vec n_{1} = \\left(\n",
    "\\begin{array}{cccc}\n",
    "1 & 2 & 3\n",
    "\\end{array}\n",
    "\\right)$  \n",
    "$\\vec n_{2} = \\left(\n",
    "\\begin{array}{cccc}\n",
    "4 & 5 & 6\n",
    "\\end{array}\n",
    "\\right)$  \n",
    "$\\vec n_{1} \\times \\vec n_{2}  = \\left|\n",
    "\\begin{array}{cccc}\n",
    "\\vec i & \\vec j & \\vec k \\\\\n",
    "1 & 2 & 3\\\\\n",
    "4 & 5 & 6\n",
    "\\end{array}\n",
    "\\right| = \\vec i \\left|\n",
    "\\begin{array}{cccc}\n",
    "2 & 3\\\\\n",
    "5 & 6\n",
    "\\end{array}\n",
    "\\right| - \\vec j \\left|\n",
    "\\begin{array}{cccc}\n",
    "1 & 3\\\\\n",
    "4 & 6\n",
    "\\end{array}\n",
    "\\right| + \\vec k \\left|\n",
    "\\begin{array}{cccc}\n",
    "1 & 2\\\\\n",
    "4 & 5\n",
    "\\end{array}\n",
    "\\right| = -3 \\vec i + 6 \\vec j -3 \\vec k\n",
    "$"
   ]
  },
  {
   "cell_type": "markdown",
   "metadata": {},
   "source": [
    "Таким образом, искомое каноническое уравнение прямой, по которой пересекаются плоскости, заданные уравнениями (1) и (2), запишется в виде:\n",
    "## $\\frac{x + 11}{-3} = \\frac{y}{6} = \\frac{z - \\frac{23}{3}}{-3}$  \n",
    "Домножим все части уравнения на 3:\n",
    "## $\\frac{x + 11}{-1} = \\frac{y}{2} = \\frac{3z - 23}{-3}$"
   ]
  },
  {
   "cell_type": "code",
   "execution_count": null,
   "metadata": {},
   "outputs": [],
   "source": []
  }
 ],
 "metadata": {
  "kernelspec": {
   "display_name": "Python 3",
   "language": "python",
   "name": "python3"
  },
  "language_info": {
   "codemirror_mode": {
    "name": "ipython",
    "version": 3
   },
   "file_extension": ".py",
   "mimetype": "text/x-python",
   "name": "python",
   "nbconvert_exporter": "python",
   "pygments_lexer": "ipython3",
   "version": "3.8.5"
  }
 },
 "nbformat": 4,
 "nbformat_minor": 4
}
