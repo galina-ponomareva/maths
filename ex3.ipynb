{
 "cells": [
  {
   "cell_type": "markdown",
   "metadata": {},
   "source": [
    "1. Вычислите матрицу, обратную данной:\n",
    "$A = \\left(\n",
    "\\begin{array}{cccc}\n",
    "1 & 2 & 3\\\\\n",
    "4 & 0 & 6\\\\\n",
    "7 & 8 & 9\n",
    "\\end{array}\n",
    "\\right)$"
   ]
  },
  {
   "cell_type": "markdown",
   "metadata": {},
   "source": [
    "$M = \\left(\n",
    "\\begin{array}{cccc}\n",
    "-48 & 36-42 & 32\\\\\n",
    "18-24 & 9-21 & 8-14\\\\\n",
    "12 & 6-12 & -8\n",
    "\\end{array}\n",
    "\\right) = \\left(\n",
    "\\begin{array}{cccc}\n",
    "-48 & -6 & 32\\\\\n",
    "-6 & -12 & -6\\\\\n",
    "12 & -6 & -8\n",
    "\\end{array}\n",
    "\\right)$"
   ]
  },
  {
   "cell_type": "markdown",
   "metadata": {},
   "source": [
    "$A_{*} = \\left(\n",
    "\\begin{array}{cccc}\n",
    "-48 & 6 & 32\\\\\n",
    "6 & -12 & 6\\\\\n",
    "12 & 6 & -8\n",
    "\\end{array}\n",
    "\\right)$"
   ]
  },
  {
   "cell_type": "markdown",
   "metadata": {},
   "source": [
    "$A_{*}^{T} = \\left(\n",
    "\\begin{array}{cccc}\n",
    "-48 & 6 & 12\\\\\n",
    "6 & -12 & 6\\\\\n",
    "32 & 6 & -8\n",
    "\\end{array}\n",
    "\\right)$"
   ]
  },
  {
   "cell_type": "markdown",
   "metadata": {},
   "source": [
    "$\\det A = \\left|\n",
    "\\begin{array}{cccc}\n",
    "1 & 2 & 3\\\\\n",
    "4 & 0 & 6\\\\\n",
    "7 & 8 & 9\n",
    "\\end{array}\n",
    "\\right|=\n",
    "60$"
   ]
  },
  {
   "cell_type": "markdown",
   "metadata": {},
   "source": [
    "$A^{-1} = \\left(\n",
    "\\begin{array}{cccc}\n",
    "-48/60 & 6/60 & 12/60\\\\\n",
    "6/60 & -12/60 & 6/60\\\\\n",
    "32/60 & 6/60 & -8/60\n",
    "\\end{array}\n",
    "\\right) = \\left(\n",
    "\\begin{array}{cccc}\n",
    "-4/5 & 1/10 & 1/5\\\\\n",
    "1/10 & -1/5 & 1/10\\\\\n",
    "8/15 & 1/10 & -2/15\n",
    "\\end{array}\n",
    "\\right)$"
   ]
  },
  {
   "cell_type": "markdown",
   "metadata": {},
   "source": [
    "Действительно,\n",
    "$A \\cdot A^{-1} = \\left(\n",
    "\\begin{array}{cccc}\n",
    "1 & 2 & 3\\\\\n",
    "4 & 0 & 6\\\\\n",
    "7 & 8 & 9\n",
    "\\end{array}\n",
    "\\right) \\cdot \\left(\n",
    "\\begin{array}{cccc}\n",
    "-4/5 & 1/10 & 1/5\\\\\n",
    "1/10 & -1/5 & 1/10\\\\\n",
    "8/15 & 1/10 & -2/15\n",
    "\\end{array}\n",
    "\\right) = \\left(\n",
    "\\begin{array}{cccc}\n",
    "1 & 0 & 0\\\\\n",
    "0 & 1 & 0\\\\\n",
    "0 & 0 & 1\n",
    "\\end{array}\n",
    "\\right)$"
   ]
  },
  {
   "cell_type": "markdown",
   "metadata": {},
   "source": [
    "2. Приведите пример матрицы 4х4, ранг которой равен 1.\n",
    "###### Так как ранг матрицы равен 1, то число базисных (линейно независимых) строк или столбцов равно 1. Используя в качестве остальных 3 строк линейные комбинации базисной, получим матрицу 4x4, ранг которой равен 1.\n",
    "###### Например,\n",
    "$\\left(\n",
    "\\begin{array}{cccc}\n",
    "1 & 0 & -1 & 2\\\\\n",
    "2 & 0 & -2 & 4\\\\\n",
    "-1 & 0 & 1 & -2\\\\\n",
    "3 & 0 & -3 & 6\\\\\n",
    "\\end{array}\n",
    "\\right)$"
   ]
  },
  {
   "cell_type": "code",
   "execution_count": 1,
   "metadata": {},
   "outputs": [],
   "source": [
    "import numpy as np"
   ]
  },
  {
   "cell_type": "code",
   "execution_count": 2,
   "metadata": {},
   "outputs": [
    {
     "data": {
      "text/plain": [
       "1"
      ]
     },
     "execution_count": 2,
     "metadata": {},
     "output_type": "execute_result"
    }
   ],
   "source": [
    "a = np.array([[1, 0, -1, 2], [2, 0, -2, 4], [-1, 0, 1, -2], [3, 0, -3, 6]])\n",
    "np.linalg.matrix_rank(a, 0.0001)"
   ]
  },
  {
   "cell_type": "code",
   "execution_count": 3,
   "metadata": {},
   "outputs": [
    {
     "data": {
      "text/plain": [
       "array([[-0.8       ,  0.1       ,  0.2       ],\n",
       "       [ 0.1       , -0.2       ,  0.1       ],\n",
       "       [ 0.53333333,  0.1       , -0.13333333]])"
      ]
     },
     "execution_count": 3,
     "metadata": {},
     "output_type": "execute_result"
    }
   ],
   "source": [
    "b = np.array([[1, 2, 3], [4, 0, 6], [7, 8, 9]])\n",
    "np.linalg.inv(b)"
   ]
  },
  {
   "cell_type": "code",
   "execution_count": null,
   "metadata": {},
   "outputs": [],
   "source": []
  }
 ],
 "metadata": {
  "kernelspec": {
   "display_name": "Python 3",
   "language": "python",
   "name": "python3"
  },
  "language_info": {
   "codemirror_mode": {
    "name": "ipython",
    "version": 3
   },
   "file_extension": ".py",
   "mimetype": "text/x-python",
   "name": "python",
   "nbconvert_exporter": "python",
   "pygments_lexer": "ipython3",
   "version": "3.8.5"
  }
 },
 "nbformat": 4,
 "nbformat_minor": 4
}
