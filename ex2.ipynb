{
 "cells": [
  {
   "cell_type": "markdown",
   "metadata": {},
   "source": [
    "## $\\left|\n",
    "\\begin{array}{cccc}\n",
    "1 & 2 & 3\\\\\n",
    "4 & 0 & 6\\\\\n",
    "7 & 8 & 9\n",
    "\\end{array}\n",
    "\\right|= 2\\left|\n",
    "\\begin{array}{cccc}\n",
    "1 & 2 & 3\\\\\n",
    "2 & 0 & 3\\\\\n",
    "7 & 8 & 9\n",
    "\\end{array}\n",
    "\\right|= 6\\left|\n",
    "\\begin{array}{cccc}\n",
    "1 & 2 & 1\\\\\n",
    "2 & 0 & 1\\\\\n",
    "7 & 8 & 3\n",
    "\\end{array}\n",
    "\\right|= 6\\left| \n",
    "\\begin{array}{cccc}\n",
    "0 & 1\\\\ \n",
    "8 & 3\n",
    "\\end{array} \n",
    "\\right|\n",
    "-12\\left| \n",
    "\\begin{array}{cccc}\n",
    "2 & 1\\\\ \n",
    "7 & 3\n",
    "\\end{array} \n",
    "\\right|\n",
    "+6\\left| \n",
    "\\begin{array}{cccc}\n",
    "2 & 0\\\\ \n",
    "7 & 8\n",
    "\\end{array} \n",
    "\\right| = 6 \\cdot (-8) - 12 \\cdot (-1) + 6 \\cdot 16 = 60\n",
    "$\n"
   ]
  },
  {
   "cell_type": "code",
   "execution_count": 5,
   "metadata": {},
   "outputs": [],
   "source": [
    "import numpy as np"
   ]
  },
  {
   "cell_type": "code",
   "execution_count": 6,
   "metadata": {},
   "outputs": [
    {
     "data": {
      "text/plain": [
       "59.999999999999986"
      ]
     },
     "execution_count": 6,
     "metadata": {},
     "output_type": "execute_result"
    }
   ],
   "source": [
    "a = np.array([[1, 2, 3], [4, 0, 6], [7, 8, 9]])\n",
    "np.linalg.det(a)"
   ]
  },
  {
   "cell_type": "code",
   "execution_count": null,
   "metadata": {},
   "outputs": [],
   "source": []
  }
 ],
 "metadata": {
  "kernelspec": {
   "display_name": "Python 3",
   "language": "python",
   "name": "python3"
  },
  "language_info": {
   "codemirror_mode": {
    "name": "ipython",
    "version": 3
   },
   "file_extension": ".py",
   "mimetype": "text/x-python",
   "name": "python",
   "nbconvert_exporter": "python",
   "pygments_lexer": "ipython3",
   "version": "3.8.5"
  }
 },
 "nbformat": 4,
 "nbformat_minor": 4
}
