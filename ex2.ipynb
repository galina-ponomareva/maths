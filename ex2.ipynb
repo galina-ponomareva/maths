{
 "cells": [
  {
   "cell_type": "code",
   "execution_count": 18,
   "metadata": {},
   "outputs": [],
   "source": [
    "%matplotlib inline\n",
    "import numpy as np\n",
    "import matplotlib.pyplot as plt"
   ]
  },
  {
   "cell_type": "code",
   "execution_count": 11,
   "metadata": {},
   "outputs": [
    {
     "name": "stdout",
     "output_type": "stream",
     "text": [
      "Вероятность выпадания красного:\n",
      "18/37 - сумма вероятностей выпадания каждого из 18 красных чисел, каждая из которых равна 1/37\n",
      "Теоретическая величина: 0.4864864864864865\n",
      "Расчетная величина: 0.4792\n",
      "\n",
      "Вероятность выпадания черного:\n",
      "18/37 - сумма вероятностей выпадания каждого из 18 черных чисел, каждая из которых равна 1/37\n",
      "Теоретическая величина: 0.4864864864864865\n",
      "Расчетная величина: 0.4926\n",
      "\n",
      "Вероятность выпадания зеро:\n",
      "Теоретическая величина: 0.02702702702702703\n",
      "Расчетная величина: 0.0282\n"
     ]
    }
   ],
   "source": [
    "n = 10000\n",
    "k, m, z = 0, 0, 0\n",
    "\n",
    "for i in range(0, n):\n",
    "    x = np.random.uniform(0, 37)\n",
    "    if int(x) in [15, 4, 2, 17, 6, 13, 11, 8, 10, 24, 33, 20, 31, 22, 29, 28, 35, 26]:\n",
    "        k = k + 1\n",
    "    elif int(x) in [32, 19, 21, 25, 34, 27, 36, 30, 23, 5, 16, 1, 14, 9, 18, 7, 12, 3]:\n",
    "        m = m + 1\n",
    "    else:\n",
    "        z = z + 1\n",
    "\n",
    "print('Вероятность выпадания красного:')\n",
    "print('18/37 - сумма вероятностей выпадания каждого из 18 красных чисел, каждая из которых равна 1/37')\n",
    "print('Теоретическая величина:', 18/37)\n",
    "print('Расчетная величина:', m/n)\n",
    "\n",
    "print('\\nВероятность выпадания черного:')\n",
    "print('18/37 - сумма вероятностей выпадания каждого из 18 черных чисел, каждая из которых равна 1/37')\n",
    "print('Теоретическая величина:', 18/37)\n",
    "print('Расчетная величина:', k/n)\n",
    "\n",
    "print('\\nВероятность выпадания зеро:')\n",
    "print('Теоретическая величина:', 1/37)\n",
    "print('Расчетная величина:', z/n)"
   ]
  },
  {
   "cell_type": "code",
   "execution_count": 17,
   "metadata": {},
   "outputs": [
    {
     "name": "stdout",
     "output_type": "stream",
     "text": [
      "Вероятность выпадания двух орлов одновременно на двух монетах:\n",
      "Теоретическая величина: 0.5*0.5 = 0.25\n",
      "Расчетная величина: 0.2419\n",
      "\n",
      "Вероятность выпадания двух решек одновременно на двух монетах:\n",
      "Теоретическая величина: 0.5*0.5 = 0.25\n",
      "Расчетная величина: 0.2527\n",
      "\n",
      "Вероятность выпадания орла и решки одновременно на двух монетах (таких события 2, т.к. порядок не важен):\n",
      "Теоретическая величина: 0.5*0.5 + 0.5*0.5 = 0.5\n",
      "Расчетная величина: 0.5054\n"
     ]
    }
   ],
   "source": [
    "k, m, l = 0, 0, 0\n",
    "n = 10000\n",
    "\n",
    "for i in range(0, n):\n",
    "    x = np.random.uniform(0, 10)\n",
    "    y = np.random.uniform(0, 10)\n",
    "    if x < 5 and y < 5:\n",
    "        #два орла\n",
    "        k = k + 1\n",
    "    elif x > 5 and y > 5:\n",
    "        #две решки\n",
    "        m = m + 1\n",
    "    else:\n",
    "        #один орел, одна решка, порядок не важен\n",
    "        l = l + 1\n",
    "\n",
    "print('Вероятность выпадания двух орлов одновременно на двух монетах:')\n",
    "print('Теоретическая величина: 0.5*0.5 = 0.25')\n",
    "print('Расчетная величина:', k/n)\n",
    "\n",
    "print('\\nВероятность выпадания двух решек одновременно на двух монетах:')\n",
    "print('Теоретическая величина: 0.5*0.5 = 0.25')\n",
    "print('Расчетная величина:', m/n)\n",
    "\n",
    "print('\\nВероятность выпадания орла и решки одновременно на двух монетах (таких события 2, т.к. порядок не важен):')\n",
    "print('Теоретическая величина: 0.5*0.5 + 0.5*0.5 = 0.5')\n",
    "print('Расчетная величина:', l/n)"
   ]
  },
  {
   "cell_type": "code",
   "execution_count": 33,
   "metadata": {},
   "outputs": [
    {
     "data": {
      "image/png": "[encoded data removed]",
      "text/plain": [
       "<Figure size 432x288 with 1 Axes>"
      ]
     },
     "metadata": {
      "needs_background": "light"
     },
     "output_type": "display_data"
    }
   ],
   "source": [
    "X = []\n",
    "for i in range(10):\n",
    "    x = np.random.rand(1000000)\n",
    "    X.append(x)\n",
    "num_bins = 100\n",
    "n, bins, patches = plt.hist(sum(X), num_bins)\n",
    "plt.xlabel('X')\n",
    "plt.ylabel('Probability')\n",
    "plt.title('Histogram')\n",
    "plt.show()"
   ]
  },
  {
   "cell_type": "code",
   "execution_count": null,
   "metadata": {},
   "outputs": [],
   "source": []
  }
 ],
 "metadata": {
  "kernelspec": {
   "display_name": "Python 3",
   "language": "python",
   "name": "python3"
  },
  "language_info": {
   "codemirror_mode": {
    "name": "ipython",
    "version": 3
   },
   "file_extension": ".py",
   "mimetype": "text/x-python",
   "name": "python",
   "nbconvert_exporter": "python",
   "pygments_lexer": "ipython3",
   "version": "3.8.5"
  }
 },
 "nbformat": 4,
 "nbformat_minor": 4
}
